{
  "nbformat": 4,
  "nbformat_minor": 0,
  "metadata": {
    "colab": {
      "name": "Manipulating tensors in Numpy.ipynb",
      "provenance": []
    },
    "kernelspec": {
      "name": "python3",
      "display_name": "Python 3"
    },
    "language_info": {
      "name": "python"
    }
  },
  "cells": [
    {
      "cell_type": "code",
      "metadata": {
        "colab": {
          "base_uri": "https://localhost:8080/"
        },
        "id": "TWvVcqvLTxUN",
        "outputId": "ab1a7866-5a79-4e93-e967-c9bbc8b0bfa4"
      },
      "source": [
        "from keras.datasets import mnist\n",
        "(train_images, train_labels), (test_images, test_labels) = mnist.load_data()"
      ],
      "execution_count": 1,
      "outputs": [
        {
          "output_type": "stream",
          "text": [
            "Downloading data from https://storage.googleapis.com/tensorflow/tf-keras-datasets/mnist.npz\n",
            "11493376/11490434 [==============================] - 0s 0us/step\n"
          ],
          "name": "stdout"
        }
      ]
    },
    {
      "cell_type": "code",
      "metadata": {
        "colab": {
          "base_uri": "https://localhost:8080/",
          "height": 265
        },
        "id": "EAMq1pxhUIZt",
        "outputId": "2d992397-121d-46fd-a67e-fb34d388be13"
      },
      "source": [
        "#Displaying the fourth digit\n",
        "digit = train_images[0]\n",
        "import matplotlib.pyplot as plt\n",
        "plt.imshow(digit, cmap=plt.cm.binary)\n",
        "plt.show()"
      ],
      "execution_count": 7,
      "outputs": [
        {
          "output_type": "display_data",
          "data": {
            "image/png": "[encoded data removed]",
            "text/plain": [
              "<Figure size 432x288 with 1 Axes>"
            ]
          },
          "metadata": {
            "tags": [],
            "needs_background": "light"
          }
        }
      ]
    },
    {
      "cell_type": "code",
      "metadata": {
        "colab": {
          "base_uri": "https://localhost:8080/",
          "height": 265
        },
        "id": "1ImVkkZxUeB4",
        "outputId": "c550d273-7e7c-4d15-9c85-15881484517d"
      },
      "source": [
        "# selects  digits  #10  to  #100  (#100  isn’t  included) from train_images  and  puts them in an array of shape (90, 28, 28):\n",
        "my_slice = train_images[10:100]\n",
        "a=my_slice[2]\n",
        "plt.imshow(a, cmap=plt.cm.binary)\n",
        "plt.show()"
      ],
      "execution_count": 14,
      "outputs": [
        {
          "output_type": "display_data",
          "data": {
            "image/png": "[encoded data removed]",
            "text/plain": [
              "<Figure size 432x288 with 1 Axes>"
            ]
          },
          "metadata": {
            "tags": [],
            "needs_background": "light"
          }
        }
      ]
    },
    {
      "cell_type": "code",
      "metadata": {
        "colab": {
          "base_uri": "https://localhost:8080/",
          "height": 265
        },
        "id": "jvUziHmUVZuG",
        "outputId": "2972df40-e2c9-468c-bdcb-f41cba56706a"
      },
      "source": [
        " ## selects  digits  #10  to  #100  (#100  isn’t  included) from train_images  and  puts them in an array of shape (90, 28, 28)\n",
        " #: is equivalent to selecting theentire axis\n",
        " ##Equivalent to the previous example\n",
        " my_slice = train_images[10:100, :, :]\n",
        " b=my[4]\n",
        " plt.imshow(b, cmap=plt.cm.binary)\n",
        "plt.show()"
      ],
      "execution_count": 17,
      "outputs": [
        {
          "output_type": "display_data",
          "data": {
            "image/png": "[encoded data removed]",
            "text/plain": [
              "<Figure size 432x288 with 1 Axes>"
            ]
          },
          "metadata": {
            "tags": [],
            "needs_background": "light"
          }
        }
      ]
    },
    {
      "cell_type": "code",
      "metadata": {
        "colab": {
          "base_uri": "https://localhost:8080/",
          "height": 265
        },
        "id": "BVvzFTCNYqu1",
        "outputId": "b75b2a9f-f63c-4809-9206-294f9bc8e63a"
      },
      "source": [
        "#Equivalent to the previous example\n",
        "my_slice = train_images[10:100, 0:28, 0:28]\n",
        "b=my_slice[4]\n",
        "plt.imshow(b, cmap=plt.cm.binary)\n",
        "plt.show()"
      ],
      "execution_count": 18,
      "outputs": [
        {
          "output_type": "display_data",
          "data": {
            "image/png": "[encoded data removed]",
            "text/plain": [
              "<Figure size 432x288 with 1 Axes>"
            ]
          },
          "metadata": {
            "tags": [],
            "needs_background": "light"
          }
        }
      ]
    },
    {
      "cell_type": "code",
      "metadata": {
        "colab": {
          "base_uri": "https://localhost:8080/",
          "height": 265
        },
        "id": "XQhR8HG3WpmF",
        "outputId": "00ee63a4-834e-432b-b8e6-8e7ad00c1b05"
      },
      "source": [
        " #Select 14 × 14 pixels in the bottom-right corner of all images\n",
        " my_slice = train_images[:, 14:, 14:]\n",
        " b=my_slice[0]\n",
        "plt.imshow(b, cmap=plt.cm.binary)\n",
        "plt.show()"
      ],
      "execution_count": 21,
      "outputs": [
        {
          "output_type": "display_data",
          "data": {
            "image/png": "[encoded data removed]",
            "text/plain": [
              "<Figure size 432x288 with 1 Axes>"
            ]
          },
          "metadata": {
            "tags": [],
            "needs_background": "light"
          }
        }
      ]
    },
    {
      "cell_type": "code",
      "metadata": {
        "colab": {
          "base_uri": "https://localhost:8080/",
          "height": 265
        },
        "id": "sJ47g4J_ZiVA",
        "outputId": "1d32c3ae-f921-40e1-a8b2-f789fb1de047"
      },
      "source": [
        "#to  crop  theimages to patches of 14 × 14 pixels centered in the middle\n",
        "my_slice = train_images[:, 7:-7, 7:-7]\n",
        "b=my_slice[0]\n",
        "plt.imshow(b, cmap=plt.cm.binary)\n",
        "plt.show()"
      ],
      "execution_count": 22,
      "outputs": [
        {
          "output_type": "display_data",
          "data": {
            "image/png": "[encoded data removed]",
            "text/plain": [
              "<Figure size 432x288 with 1 Axes>"
            ]
          },
          "metadata": {
            "tags": [],
            "needs_background": "light"
          }
        }
      ]
    },
    {
      "cell_type": "code",
      "metadata": {
        "id": "rqWACYFCZ38o"
      },
      "source": [
        ""
      ],
      "execution_count": null,
      "outputs": []
    }
  ]
}