{
  "nbformat": 4,
  "nbformat_minor": 0,
  "metadata": {
    "coursera": {
      "course_slug": "convolutional-neural-networks",
      "graded_item_id": "bwbJV",
      "launcher_item_id": "0TkXB"
    },
    "kernelspec": {
      "display_name": "Python 3",
      "language": "python",
      "name": "python3"
    },
    "language_info": {
      "codemirror_mode": {
        "name": "ipython",
        "version": 3
      },
      "file_extension": ".py",
      "mimetype": "text/x-python",
      "name": "python",
      "nbconvert_exporter": "python",
      "pygments_lexer": "ipython3",
      "version": "3.8.5"
    },
    "colab": {
      "name": "Convolution_model_With_TF.ipynb",
      "provenance": []
    }
  },
  "cells": [
    {
      "cell_type": "markdown",
      "metadata": {
        "id": "349rZNt7inae"
      },
      "source": [
        "# Convolutional Neural Networks: Application\n",
        "\n",
        "Welcome to Course 4's second assignment! In this notebook, you will:\n",
        "\n",
        "- Implement helper functions that you will use when implementing a TensorFlow model\n",
        "- Implement a fully functioning ConvNet using TensorFlow \n",
        "\n",
        "**After this assignment you will be able to:**\n",
        "\n",
        "- Build and train a ConvNet in TensorFlow for a classification problem \n",
        "\n",
        "We assume here that you are already familiar with TensorFlow. If you are not, please refer the *TensorFlow Tutorial* of the third week of Course 2 (\"*Improving deep neural networks*\")."
      ]
    },
    {
      "cell_type": "markdown",
      "metadata": {
        "id": "yOOUF_dTinaz"
      },
      "source": [
        "### <font color='darkblue'> Updates to Assignment <font>\n",
        "\n",
        "#### If you were working on a previous version\n",
        "* The current notebook filename is version \"1a\". \n",
        "* You can find your work in the file directory as version \"1\".\n",
        "* To view the file directory, go to the menu \"File->Open\", and this will open a new tab that shows the file directory.\n",
        "\n",
        "#### List of Updates\n",
        "* `initialize_parameters`: added details about tf.get_variable, `eval`. Clarified test case.\n",
        "* Added explanations for the kernel (filter) stride values, max pooling, and flatten functions.\n",
        "* Added details about softmax cross entropy with logits.\n",
        "* Added instructions for creating the Adam Optimizer.\n",
        "* Added explanation of how to evaluate tensors (optimizer and cost).\n",
        "* `forward_propagation`: clarified instructions, use \"F\" to store \"flatten\" layer.\n",
        "* Updated print statements and 'expected output' for easier visual comparisons.\n",
        "* Many thanks to Kevin P. Brown (mentor for the deep learning specialization) for his suggestions on the assignments in this course!"
      ]
    },
    {
      "cell_type": "markdown",
      "metadata": {
        "id": "Uy9zm3Mlina1"
      },
      "source": [
        "## 1.0 - TensorFlow model\n",
        "\n",
        "In the previous assignment, you built helper functions using numpy to understand the mechanics behind convolutional neural networks. Most practical applications of deep learning today are built using programming frameworks, which have many built-in functions you can simply call. \n",
        "\n",
        "As usual, we will start by loading in the packages. "
      ]
    },
    {
      "cell_type": "code",
      "metadata": {
        "collapsed": true,
        "id": "CqhD4EpKina3"
      },
      "source": [
        "import math\n",
        "import numpy as np\n",
        "import h5py\n",
        "import matplotlib.pyplot as plt\n",
        "import scipy\n",
        "from PIL import Image\n",
        "from scipy import ndimage\n",
        "import tensorflow as tf\n",
        "from tensorflow.python.framework import ops\n",
        "from cnn_utils import *\n",
        "\n",
        "%matplotlib inline\n",
        "np.random.seed(1)"
      ],
      "execution_count": null,
      "outputs": []
    },
    {
      "cell_type": "markdown",
      "metadata": {
        "id": "MIdn82gLina6"
      },
      "source": [
        "Run the next cell to load the \"SIGNS\" dataset you are going to use."
      ]
    },
    {
      "cell_type": "code",
      "metadata": {
        "id": "cRBzIGUFina6",
        "outputId": "0a7f003c-827b-4eef-a941-2aa6e5d6b2c4"
      },
      "source": [
        "# Loading the data (signs)\n",
        "X_train_orig, Y_train_orig, X_test_orig, Y_test_orig, classes = load_dataset()\n",
        "print(X_train_orig.shape)\n",
        "print(Y_train_orig.shape)\n",
        "print(X_test_orig.shape)\n",
        "print(Y_test_orig.shape)\n",
        "print(classes)"
      ],
      "execution_count": null,
      "outputs": [
        {
          "name": "stdout",
          "output_type": "stream",
          "text": [
            "(1080, 64, 64, 3)\n",
            "(1, 1080)\n",
            "(120, 64, 64, 3)\n",
            "(1, 120)\n",
            "[0 1 2 3 4 5]\n"
          ]
        }
      ]
    },
    {
      "cell_type": "markdown",
      "metadata": {
        "id": "GUsJFhz2ina9"
      },
      "source": [
        "As a reminder, the SIGNS dataset is a collection of 6 signs representing numbers from 0 to 5.\n",
        "\n",
        "![SIGNS.jpg](data:image/jpeg;base64,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)\n",
        "\n",
        "The next cell will show you an example of a labelled image in the dataset. Feel free to change the value of `index` below and re-run to see different examples. "
      ]
    },
    {
      "cell_type": "code",
      "metadata": {
        "id": "wOHn1Ik6ina-",
        "outputId": "6fa17ac3-e5a1-48ea-88e1-19f77f7635b2"
      },
      "source": [
        "# Example of a picture\n",
        "index = 12\n",
        "plt.imshow(X_train_orig[index])\n",
        "print (\"y = \" + str(np.squeeze(Y_train_orig[:, index])))"
      ],
      "execution_count": null,
      "outputs": [
        {
          "name": "stdout",
          "output_type": "stream",
          "text": [
            "y = 5\n"
          ]
        },
        {
          "data": {
            "image/png": "[encoded data removed]",
            "text/plain": [
              "<matplotlib.figure.Figure at 0x7fb4fe6281d0>"
            ]
          },
          "metadata": {},
          "output_type": "display_data"
        }
      ]
    },
    {
      "cell_type": "markdown",
      "metadata": {
        "id": "mWX5yfE5ina_"
      },
      "source": [
        "In Course 2, you had built a fully-connected network for this dataset. But since this is an image dataset, it is more natural to apply a ConvNet to it.\n",
        "\n",
        "To get started, let's examine the shapes of your data. "
      ]
    },
    {
      "cell_type": "code",
      "metadata": {
        "id": "86Utt-6NinbA",
        "outputId": "9a418b2f-162b-416b-9f99-841b879ce812"
      },
      "source": [
        "X_train = X_train_orig/255.\n",
        "X_test = X_test_orig/255.\n",
        "Y_train = convert_to_one_hot(Y_train_orig, 6).T\n",
        "Y_test = convert_to_one_hot(Y_test_orig, 6).T\n",
        "print (\"number of training examples = \" + str(X_train.shape[0]))\n",
        "print (\"number of test examples = \" + str(X_test.shape[0]))\n",
        "print (\"X_train shape: \" + str(X_train.shape))\n",
        "print (\"Y_train shape: \" + str(Y_train.shape))\n",
        "print (\"X_test shape: \" + str(X_test.shape))\n",
        "print (\"Y_test shape: \" + str(Y_test.shape))\n",
        "conv_layers = {}"
      ],
      "execution_count": null,
      "outputs": [
        {
          "name": "stdout",
          "output_type": "stream",
          "text": [
            "number of training examples = 1080\n",
            "number of test examples = 120\n",
            "X_train shape: (1080, 64, 64, 3)\n",
            "Y_train shape: (1080, 6)\n",
            "X_test shape: (120, 64, 64, 3)\n",
            "Y_test shape: (120, 6)\n"
          ]
        }
      ]
    },
    {
      "cell_type": "markdown",
      "metadata": {
        "id": "JxX6Mlu-inbB"
      },
      "source": [
        "### 1.1 - Create placeholders\n",
        "\n",
        "TensorFlow requires that you create placeholders for the input data that will be fed into the model when running the session.\n",
        "\n",
        "**Exercise**: Implement the function below to create placeholders for the input image X and the output Y. You should not define the number of training examples for the moment. To do so, you could use \"None\" as the batch size, it will give you the flexibility to choose it later. Hence X should be of dimension **[None, n_H0, n_W0, n_C0]** and Y should be of dimension **[None, n_y]**.  [Hint: search for the tf.placeholder documentation\"](https://www.tensorflow.org/api_docs/python/tf/placeholder)."
      ]
    },
    {
      "cell_type": "code",
      "metadata": {
        "collapsed": true,
        "id": "ftne1tAlinbC"
      },
      "source": [
        "# GRADED FUNCTION: create_placeholders\n",
        "\n",
        "def create_placeholders(n_H0, n_W0, n_C0, n_y):\n",
        "    \"\"\"\n",
        "    Creates the placeholders for the tensorflow session.\n",
        "    \n",
        "    Arguments:\n",
        "    n_H0 -- scalar, height of an input image\n",
        "    n_W0 -- scalar, width of an input image\n",
        "    n_C0 -- scalar, number of channels of the input\n",
        "    n_y -- scalar, number of classes\n",
        "        \n",
        "    Returns:\n",
        "    X -- placeholder for the data input, of shape [None, n_H0, n_W0, n_C0] and dtype \"float\"\n",
        "    Y -- placeholder for the input labels, of shape [None, n_y] and dtype \"float\"\n",
        "    \"\"\"\n",
        "\n",
        "    ### START CODE HERE ### (≈2 lines)\n",
        "    X = tf.placeholder(shape=[None,n_H0,n_W0,n_C0],dtype=\"float\")\n",
        "    Y = tf.placeholder(shape=[None,n_y],dtype=\"float\")\n",
        "    ### END CODE HERE ###\n",
        "    \n",
        "    return X, Y"
      ],
      "execution_count": null,
      "outputs": []
    },
    {
      "cell_type": "code",
      "metadata": {
        "id": "W4DgIRAtinbD",
        "outputId": "9ed02b04-6e8c-4093-881b-e5b52eaed846"
      },
      "source": [
        "X, Y = create_placeholders(64, 64, 3, 6)\n",
        "print (\"X = \" + str(X))\n",
        "print (\"Y = \" + str(Y))"
      ],
      "execution_count": null,
      "outputs": [
        {
          "name": "stdout",
          "output_type": "stream",
          "text": [
            "X = Tensor(\"Placeholder:0\", shape=(?, 64, 64, 3), dtype=float32)\n",
            "Y = Tensor(\"Placeholder_1:0\", shape=(?, 6), dtype=float32)\n"
          ]
        }
      ]
    },
    {
      "cell_type": "markdown",
      "metadata": {
        "id": "Qm9YXAYUinbE"
      },
      "source": [
        "**Expected Output**\n",
        "\n",
        "<table> \n",
        "<tr>\n",
        "<td>\n",
        "    X = Tensor(\"Placeholder:0\", shape=(?, 64, 64, 3), dtype=float32)\n",
        "\n",
        "</td>\n",
        "</tr>\n",
        "<tr>\n",
        "<td>\n",
        "    Y = Tensor(\"Placeholder_1:0\", shape=(?, 6), dtype=float32)\n",
        "\n",
        "</td>\n",
        "</tr>\n",
        "</table>"
      ]
    },
    {
      "cell_type": "markdown",
      "metadata": {
        "id": "vT3NzHfoinbF"
      },
      "source": [
        "### 1.2 - Initialize parameters\n",
        "\n",
        "You will initialize weights/filters $W1$ and $W2$ using `tf.contrib.layers.xavier_initializer(seed = 0)`. You don't need to worry about bias variables as you will soon see that TensorFlow functions take care of the bias. Note also that you will only initialize the weights/filters for the conv2d functions. TensorFlow initializes the layers for the fully connected part automatically. We will talk more about that later in this assignment.\n",
        "\n",
        "**Exercise:** Implement initialize_parameters(). The dimensions for each group of filters are provided below. Reminder - to initialize a parameter $W$ of shape [1,2,3,4] in Tensorflow, use:\n",
        "```python\n",
        "W = tf.get_variable(\"W\", [1,2,3,4], initializer = ...)\n",
        "```\n",
        "#### tf.get_variable()\n",
        "[Search for the tf.get_variable documentation](https://www.tensorflow.org/api_docs/python/tf/get_variable).  Notice that the documentation says:\n",
        "```\n",
        "Gets an existing variable with these parameters or create a new one.\n",
        "```\n",
        "So we can use this function to create a tensorflow variable with the specified name, but if the variables already exist, it will get the existing variable with that same name.\n"
      ]
    },
    {
      "cell_type": "code",
      "metadata": {
        "collapsed": true,
        "id": "QNVsr_LminbF"
      },
      "source": [
        "# GRADED FUNCTION: initialize_parameters\n",
        "\n",
        "def initialize_parameters():\n",
        "    \"\"\"\n",
        "    Initializes weight parameters to build a neural network with tensorflow. The shapes are:\n",
        "                        W1 : [4, 4, 3, 8]\n",
        "                        W2 : [2, 2, 8, 16]\n",
        "    Note that we will hard code the shape values in the function to make the grading simpler.\n",
        "    Normally, functions should take values as inputs rather than hard coding.\n",
        "    Returns:\n",
        "    parameters -- a dictionary of tensors containing W1, W2\n",
        "    \"\"\"\n",
        "    \n",
        "    tf.set_random_seed(1)            # so that your \"random\" numbers match ours\n",
        "        \n",
        "    ### START CODE HERE ### (approx. 2 lines of code)\n",
        "    W1 = tf.get_variable(\"W1\", [4,4,3,8], initializer =  tf.contrib.layers.xavier_initializer(seed = 0))\n",
        "    W2 = tf.get_variable(\"W2\", [2,2,8,16], initializer =  tf.contrib.layers.xavier_initializer(seed = 0))\n",
        "    ### END CODE HERE ###\n",
        "\n",
        "    parameters = {\"W1\": W1,\n",
        "                  \"W2\": W2}\n",
        "    \n",
        "    return parameters"
      ],
      "execution_count": null,
      "outputs": []
    },
    {
      "cell_type": "code",
      "metadata": {
        "id": "DO3klIifinbG",
        "outputId": "203995db-954f-4dae-ecb7-e7173e552e33"
      },
      "source": [
        "tf.reset_default_graph()\n",
        "with tf.Session() as sess_test:\n",
        "    parameters = initialize_parameters()\n",
        "    init = tf.global_variables_initializer()\n",
        "    sess_test.run(init)\n",
        "    print(\"W1[1,1,1] = \\n\" + str(parameters[\"W1\"].eval()[1,1,1]))\n",
        "    print(\"W1.shape: \" + str(parameters[\"W1\"].shape))\n",
        "    print(\"\\n\")\n",
        "    print(\"W2[1,1,1] = \\n\" + str(parameters[\"W2\"].eval()[1,1,1]))\n",
        "    print(\"W2.shape: \" + str(parameters[\"W2\"].shape))"
      ],
      "execution_count": null,
      "outputs": [
        {
          "name": "stdout",
          "output_type": "stream",
          "text": [
            "W1[1,1,1] = \n",
            "[ 0.00131723  0.14176141 -0.04434952  0.09197326  0.14984085 -0.03514394\n",
            " -0.06847463  0.05245192]\n",
            "W1.shape: (4, 4, 3, 8)\n",
            "\n",
            "\n",
            "W2[1,1,1] = \n",
            "[-0.08566415  0.17750949  0.11974221  0.16773748 -0.0830943  -0.08058\n",
            " -0.00577033 -0.14643836  0.24162132 -0.05857408 -0.19055021  0.1345228\n",
            " -0.22779644 -0.1601823  -0.16117483 -0.10286498]\n",
            "W2.shape: (2, 2, 8, 16)\n"
          ]
        }
      ]
    },
    {
      "cell_type": "markdown",
      "metadata": {
        "id": "6MMMaW3linbH"
      },
      "source": [
        "** Expected Output:**\n",
        "\n",
        "```\n",
        "W1[1,1,1] = \n",
        "[ 0.00131723  0.14176141 -0.04434952  0.09197326  0.14984085 -0.03514394\n",
        " -0.06847463  0.05245192]\n",
        "W1.shape: (4, 4, 3, 8)\n",
        "\n",
        "\n",
        "W2[1,1,1] = \n",
        "[-0.08566415  0.17750949  0.11974221  0.16773748 -0.0830943  -0.08058\n",
        " -0.00577033 -0.14643836  0.24162132 -0.05857408 -0.19055021  0.1345228\n",
        " -0.22779644 -0.1601823  -0.16117483 -0.10286498]\n",
        "W2.shape: (2, 2, 8, 16)\n",
        "```"
      ]
    },
    {
      "cell_type": "markdown",
      "metadata": {
        "id": "cxROuWJuinbI"
      },
      "source": [
        "### 1.3 - Forward propagation\n",
        "\n",
        "In TensorFlow, there are built-in functions that implement the convolution steps for you.\n",
        "\n",
        "- **tf.nn.conv2d(X,W, strides = [1,s,s,1], padding = 'SAME'):** given an input $X$ and a group of filters $W$, this function convolves $W$'s filters on X. The third parameter ([1,s,s,1]) represents the strides for each dimension of the input (m, n_H_prev, n_W_prev, n_C_prev). Normally, you'll choose a stride of 1 for the number of examples (the first value) and for the channels (the fourth value), which is why we wrote the value as `[1,s,s,1]`. You can read the full documentation on [conv2d](https://www.tensorflow.org/api_docs/python/tf/nn/conv2d).\n",
        "\n",
        "- **tf.nn.max_pool(A, ksize = [1,f,f,1], strides = [1,s,s,1], padding = 'SAME'):** given an input A, this function uses a window of size (f, f) and strides of size (s, s) to carry out max pooling over each window.  For max pooling, we usually operate on a single example at a time and a single channel at a time.  So the first and fourth value in `[1,f,f,1]` are both 1.  You can read the full documentation on [max_pool](https://www.tensorflow.org/api_docs/python/tf/nn/max_pool).\n",
        "\n",
        "- **tf.nn.relu(Z):** computes the elementwise ReLU of Z (which can be any shape). You can read the full documentation on [relu](https://www.tensorflow.org/api_docs/python/tf/nn/relu).\n",
        "\n",
        "- **tf.contrib.layers.flatten(P)**: given a tensor \"P\", this function takes each training (or test) example in the batch and flattens it into a 1D vector.  \n",
        "    * If a tensor P has the shape (m,h,w,c), where m is the number of examples (the batch size), it returns a flattened tensor with shape (batch_size, k), where $k=h \\times w \\times c$.  \"k\" equals the product of all the dimension sizes other than the first dimension.\n",
        "    * For example, given a tensor with dimensions [100,2,3,4], it flattens the tensor to be of shape [100, 24], where 24 = 2 * 3 * 4.  You can read the full documentation on [flatten](https://www.tensorflow.org/api_docs/python/tf/contrib/layers/flatten).\n",
        "\n",
        "- **tf.contrib.layers.fully_connected(F, num_outputs):** given the flattened input F, it returns the output computed using a fully connected layer. You can read the full documentation on [full_connected](https://www.tensorflow.org/api_docs/python/tf/contrib/layers/fully_connected).\n",
        "\n",
        "In the last function above (`tf.contrib.layers.fully_connected`), the fully connected layer automatically initializes weights in the graph and keeps on training them as you train the model. Hence, you did not need to initialize those weights when initializing the parameters.\n",
        "\n",
        "\n",
        "#### Window, kernel, filter\n",
        "The words \"window\", \"kernel\", and \"filter\" are used to refer to the same thing.  This is why the parameter `ksize` refers to \"kernel size\", and we use `(f,f)` to refer to the filter size.  Both \"kernel\" and \"filter\" refer to the \"window.\""
      ]
    },
    {
      "cell_type": "markdown",
      "metadata": {
        "id": "kow4SxVXinbJ"
      },
      "source": [
        "**Exercise**\n",
        "\n",
        "Implement the `forward_propagation` function below to build the following model: `CONV2D -> RELU -> MAXPOOL -> CONV2D -> RELU -> MAXPOOL -> FLATTEN -> FULLYCONNECTED`. You should use the functions above. \n",
        "\n",
        "In detail, we will use the following parameters for all the steps:\n",
        " - Conv2D: stride 1, padding is \"SAME\"\n",
        " - ReLU\n",
        " - Max pool: Use an 8 by 8 filter size and an 8 by 8 stride, padding is \"SAME\"\n",
        " - Conv2D: stride 1, padding is \"SAME\"\n",
        " - ReLU\n",
        " - Max pool: Use a 4 by 4 filter size and a 4 by 4 stride, padding is \"SAME\"\n",
        " - Flatten the previous output.\n",
        " - FULLYCONNECTED (FC) layer: Apply a fully connected layer without an non-linear activation function. Do not call the softmax here. This will result in 6 neurons in the output layer, which then get passed later to a softmax. In TensorFlow, the softmax and cost function are lumped together into a single function, which you'll call in a different function when computing the cost. "
      ]
    },
    {
      "cell_type": "code",
      "metadata": {
        "collapsed": true,
        "id": "J-8d6Uy3inbJ"
      },
      "source": [
        "# GRADED FUNCTION: forward_propagation\n",
        "\n",
        "def forward_propagation(X, parameters):\n",
        "    \"\"\"\n",
        "    Implements the forward propagation for the model:\n",
        "    CONV2D -> RELU -> MAXPOOL -> CONV2D -> RELU -> MAXPOOL -> FLATTEN -> FULLYCONNECTED\n",
        "    \n",
        "    Note that for simplicity and grading purposes, we'll hard-code some values\n",
        "    such as the stride and kernel (filter) sizes. \n",
        "    Normally, functions should take these values as function parameters.\n",
        "    \n",
        "    Arguments:\n",
        "    X -- input dataset placeholder, of shape (input size, number of examples)\n",
        "    parameters -- python dictionary containing your parameters \"W1\", \"W2\"\n",
        "                  the shapes are given in initialize_parameters\n",
        "\n",
        "    Returns:\n",
        "    Z3 -- the output of the last LINEAR unit\n",
        "    \"\"\"\n",
        "    \n",
        "    # Retrieve the parameters from the dictionary \"parameters\" \n",
        "    W1 = parameters['W1']\n",
        "    W2 = parameters['W2']\n",
        "    \n",
        "    ### START CODE HERE ###\n",
        "    # CONV2D: stride of 1, padding 'SAME'\n",
        "    Z1 = tf.nn.conv2d(X,W1,strides=[1,1,1,1],padding='SAME')\n",
        "    # RELU\n",
        "    A1 = tf.nn.relu(Z1)\n",
        "    # MAXPOOL: window 8x8, stride 8, padding 'SAME'\n",
        "    P1 = tf.nn.max_pool(A1, ksize = [1,8,8,1], strides = [1,8,8,1], padding = 'SAME')\n",
        "    # CONV2D: filters W2, stride 1, padding 'SAME'\n",
        "    Z2 = tf.nn.conv2d(P1,W2,strides=[1,1,1,1],padding='SAME')\n",
        "    # RELU\n",
        "    A2 = tf.nn.relu(Z2)\n",
        "    # MAXPOOL: window 4x4, stride 4, padding 'SAME'\n",
        "    P2 = tf.nn.max_pool(A2, ksize = [1,4,4,1], strides = [1,4,4,1], padding = 'SAME')\n",
        "    # FLATTEN\n",
        "    F = tf.contrib.layers.flatten(P2)\n",
        "    # FULLY-CONNECTED without non-linear activation function (not not call softmax).\n",
        "    # 6 neurons in output layer. Hint: one of the arguments should be \"activation_fn=None\" \n",
        "    Z3 = tf.contrib.layers.fully_connected(F,6,activation_fn=None)\n",
        "    ### END CODE HERE ###\n",
        "\n",
        "    return Z3"
      ],
      "execution_count": null,
      "outputs": []
    },
    {
      "cell_type": "code",
      "metadata": {
        "id": "j-0SJJTdinbK",
        "outputId": "670861fe-f9e5-472a-d43f-58d5fed4c7e4"
      },
      "source": [
        "tf.reset_default_graph()\n",
        "\n",
        "with tf.Session() as sess:\n",
        "    np.random.seed(1)\n",
        "    X, Y = create_placeholders(64, 64, 3, 6)\n",
        "    parameters = initialize_parameters()\n",
        "    Z3 = forward_propagation(X, parameters)\n",
        "    init = tf.global_variables_initializer()\n",
        "    sess.run(init)\n",
        "    a = sess.run(Z3, {X: np.random.randn(2,64,64,3), Y: np.random.randn(2,6)})\n",
        "    print(\"Z3 = \\n\" + str(a))"
      ],
      "execution_count": null,
      "outputs": [
        {
          "name": "stdout",
          "output_type": "stream",
          "text": [
            "Z3 = \n",
            "[[-0.44670227 -1.57208765 -1.53049231 -2.31013036 -1.29104376  0.46852064]\n",
            " [-0.17601591 -1.57972014 -1.4737016  -2.61672091 -1.00810647  0.5747785 ]]\n"
          ]
        }
      ]
    },
    {
      "cell_type": "markdown",
      "metadata": {
        "id": "HAzpT4K1inbK"
      },
      "source": [
        "**Expected Output**:\n",
        "\n",
        "```\n",
        "Z3 = \n",
        "[[-0.44670227 -1.57208765 -1.53049231 -2.31013036 -1.29104376  0.46852064]\n",
        " [-0.17601591 -1.57972014 -1.4737016  -2.61672091 -1.00810647  0.5747785 ]]\n",
        "```"
      ]
    },
    {
      "cell_type": "markdown",
      "metadata": {
        "id": "X2iJzZVGinbL"
      },
      "source": [
        "### 1.4 - Compute cost\n",
        "\n",
        "Implement the compute cost function below. Remember that the cost function helps the neural network see how much the model's predictions differ from the correct labels.  By adjusting the weights of the network to reduce the cost, the neural network can improve its predictions.\n",
        "\n",
        "You might find these two functions helpful: \n",
        "\n",
        "- **tf.nn.softmax_cross_entropy_with_logits(logits = Z, labels = Y):** computes the softmax entropy loss. This function both computes the softmax activation function as well as the resulting loss. You can check the full documentation  [softmax_cross_entropy_with_logits](https://www.tensorflow.org/api_docs/python/tf/nn/softmax_cross_entropy_with_logits).\n",
        "- **tf.reduce_mean:** computes the mean of elements across dimensions of a tensor. Use this to calculate the sum of the losses over all the examples to get the overall cost. You can check the full documentation [reduce_mean](https://www.tensorflow.org/api_docs/python/tf/reduce_mean).\n",
        "\n",
        "#### Details on softmax_cross_entropy_with_logits (optional reading)\n",
        "* Softmax is used to format outputs so that they can be used for classification.  It assigns a value between 0 and 1 for each category, where the sum of all prediction values (across all possible categories) equals 1.\n",
        "* Cross Entropy is compares the model's predicted classifications with the actual labels and results in a numerical value representing the \"loss\" of the model's predictions.\n",
        "* \"Logits\" are the result of multiplying the weights and adding the biases.  Logits are passed through an activation function (such as a relu), and the result is called the \"activation.\"\n",
        "* The function is named `softmax_cross_entropy_with_logits` takes logits as input (and not activations); then uses the model to predict using softmax, and then compares the predictions with the true labels using cross entropy.  These are done with a single function to optimize the calculations.\n",
        "\n",
        "** Exercise**: Compute the cost below using the function above."
      ]
    },
    {
      "cell_type": "code",
      "metadata": {
        "collapsed": true,
        "id": "rLFz-5HPinbL"
      },
      "source": [
        "# GRADED FUNCTION: compute_cost \n",
        "\n",
        "def compute_cost(Z3, Y):\n",
        "    \"\"\"\n",
        "    Computes the cost\n",
        "    \n",
        "    Arguments:\n",
        "    Z3 -- output of forward propagation (output of the last LINEAR unit), of shape (number of examples, 6)\n",
        "    Y -- \"true\" labels vector placeholder, same shape as Z3\n",
        "    \n",
        "    Returns:\n",
        "    cost - Tensor of the cost function\n",
        "    \"\"\"\n",
        "    \n",
        "    ### START CODE HERE ### (1 line of code)\n",
        "    cost = tf.reduce_mean(tf.nn.softmax_cross_entropy_with_logits(logits = Z3, labels = Y))\n",
        "    ### END CODE HERE ###\n",
        "    \n",
        "    return cost"
      ],
      "execution_count": null,
      "outputs": []
    },
    {
      "cell_type": "code",
      "metadata": {
        "id": "mKw7ouDxinbL",
        "outputId": "78b7b3aa-9d21-405e-b982-00cc0a3e7dcc"
      },
      "source": [
        "tf.reset_default_graph()\n",
        "\n",
        "with tf.Session() as sess:\n",
        "    np.random.seed(1)\n",
        "    X, Y = create_placeholders(64, 64, 3, 6)\n",
        "    parameters = initialize_parameters()\n",
        "    Z3 = forward_propagation(X, parameters)\n",
        "    cost = compute_cost(Z3, Y)\n",
        "    init = tf.global_variables_initializer()\n",
        "    sess.run(init)\n",
        "    a = sess.run(cost, {X: np.random.randn(4,64,64,3), Y: np.random.randn(4,6)})\n",
        "    print(\"cost = \" + str(a))"
      ],
      "execution_count": null,
      "outputs": [
        {
          "name": "stdout",
          "output_type": "stream",
          "text": [
            "cost = 2.91034\n"
          ]
        }
      ]
    },
    {
      "cell_type": "markdown",
      "metadata": {
        "id": "uv0ZsvxpinbM"
      },
      "source": [
        "**Expected Output**: \n",
        "```\n",
        "cost = 2.91034\n",
        "```"
      ]
    },
    {
      "cell_type": "markdown",
      "metadata": {
        "id": "6wSQ3IosinbM"
      },
      "source": [
        "## 1.5 Model \n",
        "\n",
        "Finally you will merge the helper functions you implemented above to build a model. You will train it on the SIGNS dataset. \n",
        "\n",
        "**Exercise**: Complete the function below. \n",
        "\n",
        "The model below should:\n",
        "\n",
        "- create placeholders\n",
        "- initialize parameters\n",
        "- forward propagate\n",
        "- compute the cost\n",
        "- create an optimizer\n",
        "\n",
        "Finally you will create a session and run a for loop  for num_epochs, get the mini-batches, and then for each mini-batch you will optimize the function. [Hint for initializing the variables](https://www.tensorflow.org/api_docs/python/tf/global_variables_initializer)"
      ]
    },
    {
      "cell_type": "markdown",
      "metadata": {
        "id": "6Yuk4pEminbO"
      },
      "source": [
        "#### Adam Optimizer\n",
        "You can use `tf.train.AdamOptimizer(learning_rate = ...)` to create the optimizer.  The optimizer has a `minimize(loss=...)` function that you'll call to set the cost function that the optimizer will minimize.\n",
        "\n",
        "For details, check out the documentation for [Adam Optimizer](https://www.tensorflow.org/api_docs/python/tf/train/AdamOptimizer)"
      ]
    },
    {
      "cell_type": "markdown",
      "metadata": {
        "id": "K6Nrj9jOinbO"
      },
      "source": [
        "#### Random mini batches\n",
        "If you took course 2 of the deep learning specialization, you implemented `random_mini_batches()` in the \"Optimization\" programming assignment. This function returns a list of mini-batches. It is already implemented in the `cnn_utils.py` file and imported here, so you can call it like this:\n",
        "```Python\n",
        "minibatches = random_mini_batches(X, Y, mini_batch_size = 64, seed = 0)\n",
        "```\n",
        "(You will want to choose the correct variable names when you use it in your code)."
      ]
    },
    {
      "cell_type": "markdown",
      "metadata": {
        "id": "DtxJ855zinbO"
      },
      "source": [
        "#### Evaluating the optimizer and cost\n",
        "\n",
        "Within a loop, for each mini-batch, you'll use the `tf.Session` object (named `sess`) to feed a mini-batch of inputs and labels into the neural network and evaluate the tensors for the optimizer as well as the cost.  Remember that we built a graph data structure and need to feed it inputs and labels and use `sess.run()` in order to get values for the optimizer and cost.\n",
        "\n",
        "You'll use this kind of syntax:\n",
        "```\n",
        "output_for_var1, output_for_var2 = sess.run(\n",
        "                                                fetches=[var1, var2],\n",
        "                                                feed_dict={var_inputs: the_batch_of_inputs,\n",
        "                                                           var_labels: the_batch_of_labels}\n",
        "                                                )\n",
        "```\n",
        "* Notice that `sess.run` takes its first argument `fetches` as a list of objects that you want it to evaluate (in this case, we want to evaluate the optimizer and the cost).  \n",
        "* It also takes a dictionary for the `feed_dict` parameter.  \n",
        "* The keys are the `tf.placeholder` variables that we created in the `create_placeholders` function above.  \n",
        "* The values are the variables holding the actual numpy arrays for each mini-batch.  \n",
        "* The sess.run outputs a tuple of the evaluated tensors, in the same order as the list given to `fetches`. \n",
        "\n",
        "For more information on how to use sess.run, see the documentation [tf.Sesssion#run](https://www.tensorflow.org/api_docs/python/tf/Session#run) documentation."
      ]
    },
    {
      "cell_type": "code",
      "metadata": {
        "id": "aCtuNclKinbP",
        "outputId": "357b1f8c-812e-4f79-c23f-580d9a86fa49"
      },
      "source": [
        "# GRADED FUNCTION: model\n",
        "\n",
        "def model(X_train, Y_train, X_test, Y_test, learning_rate = 0.009,\n",
        "          num_epochs = 100, minibatch_size = 64, print_cost = True):\n",
        "    \"\"\"\n",
        "    Implements a three-layer ConvNet in Tensorflow:\n",
        "    CONV2D -> RELU -> MAXPOOL -> CONV2D -> RELU -> MAXPOOL -> FLATTEN -> FULLYCONNECTED\n",
        "    \n",
        "    Arguments:\n",
        "    X_train -- training set, of shape (None, 64, 64, 3)\n",
        "    Y_train -- test set, of shape (None, n_y = 6)\n",
        "    X_test -- training set, of shape (None, 64, 64, 3)\n",
        "    Y_test -- test set, of shape (None, n_y = 6)\n",
        "    learning_rate -- learning rate of the optimization\n",
        "    num_epochs -- number of epochs of the optimization loop\n",
        "    minibatch_size -- size of a minibatch\n",
        "    print_cost -- True to print the cost every 100 epochs\n",
        "    \n",
        "    Returns:\n",
        "    train_accuracy -- real number, accuracy on the train set (X_train)\n",
        "    test_accuracy -- real number, testing accuracy on the test set (X_test)\n",
        "    parameters -- parameters learnt by the model. They can then be used to predict.\n",
        "    \"\"\"\n",
        "    \n",
        "    ops.reset_default_graph()             # to be able to rerun the model without overwriting tf variables\n",
        "    tf.set_random_seed(1)                 # to keep results consistent (tensorflow seed)\n",
        "    seed = 3                              # to keep results consistent (numpy seed)\n",
        "    (m, n_H0, n_W0, n_C0) = X_train.shape             \n",
        "    n_y = Y_train.shape[1]                            \n",
        "    costs =  []                            # To keep track of the cost\n",
        "    \n",
        "    # Create Placeholders of the correct shape\n",
        "    ### START CODE HERE ### (1 line)\n",
        "    X, Y = create_placeholders(n_H0,n_W0,n_C0,n_y)\n",
        "    ### END CODE HERE ###\n",
        "\n",
        "    # Initialize parameters\n",
        "    ### START CODE HERE ### (1 line)\n",
        "    parameters = initialize_parameters()\n",
        "    ### END CODE HERE ###\n",
        "    \n",
        "    # Forward propagation: Build the forward propagation in the tensorflow graph\n",
        "    ### START CODE HERE ### (1 line)\n",
        "    Z3 =  forward_propagation(X, parameters)\n",
        "    ### END CODE HERE ###\n",
        "    \n",
        "    # Cost function: Add cost function to tensorflow graph\n",
        "    ### START CODE HERE ### (1 line)\n",
        "    cost = compute_cost(Z3, Y)\n",
        "    ### END CODE HERE ###\n",
        "    \n",
        "    # Backpropagation: Define the tensorflow optimizer. \n",
        "    #Use an AdamOptimizer that minimizes the cost.\n",
        "    ### START CODE HERE ### (1 line)\n",
        "    optimizer = tf.train.AdamOptimizer(learning_rate = learning_rate).minimize(cost)\n",
        "    ### END CODE HERE ###\n",
        "    \n",
        "    # Initialize all the variables globally\n",
        "    init = tf.global_variables_initializer()\n",
        "     \n",
        "    # Start the session to compute the tensorflow graph\n",
        "    with tf.Session() as sess:\n",
        "        \n",
        "        # Run the initialization\n",
        "        sess.run(init)\n",
        "        \n",
        "        # Do the training loop\n",
        "     for epoch in range(num_epochs):\n",
        "\n",
        "         minibatch_cost = 0.\n",
        "         num_minibatches = int(m / minibatch_size) # number of minibatches of size minibatch_size in the train set\n",
        "         seed = seed + 1\n",
        "         minibatches = random_mini_batches(X_train, Y_train, minibatch_size, seed)\n",
        "\n",
        "            for minibatch in minibatches:\n",
        "\n",
        "                # Select a minibatch\n",
        "                (minibatch_X, minibatch_Y) = minibatch\n",
        "                \"\"\"\n",
        "                # IMPORTANT: The line that runs the graph on a minibatch.\n",
        "                # Run the session to execute the optimizer and the cost.\n",
        "                # The feedict should contain a minibatch for (X,Y).\n",
        "                \"\"\"\n",
        "                ### START CODE HERE ### (1 line)\n",
        "                _ , temp_cost = sess.run(fetches=[optimizer,cost],feed_dict={X:minibatch_X, Y:minibatch_Y})\n",
        "                ### END CODE HERE ###\n",
        "                \n",
        "                minibatch_cost += temp_cost / num_minibatches\n",
        "                \n",
        "\n",
        "            # Print the cost every epoch\n",
        "            if print_cost == True and epoch % 5 == 0:\n",
        "                print (\"Cost after epoch %i: %f\" % (epoch, minibatch_cost))\n",
        "            if print_cost == True and epoch % 1 == 0:\n",
        "                costs.append(minibatch_cost)\n",
        "        \n",
        "        \n",
        "        # plot the cost\n",
        "        plt.plot(np.squeeze(costs))\n",
        "        plt.ylabel('cost')\n",
        "        plt.xlabel('iterations (per tens)')\n",
        "        plt.title(\"Learning rate =\" + str(learning_rate))\n",
        "        plt.show()\n",
        "\n",
        "        # Calculate the correct predictions\n",
        "        predict_op = tf.argmax(Z3, 1)\n",
        "        correct_prediction = tf.equal(predict_op, tf.argmax(Y, 1))\n",
        "        \n",
        "        # Calculate accuracy on the test set\n",
        "        accuracy = tf.reduce_mean(tf.cast(correct_prediction, \"float\"))\n",
        "        print(accuracy)\n",
        "        train_accuracy = accuracy.eval({X: X_train, Y: Y_train})\n",
        "        test_accuracy = accuracy.eval({X: X_test, Y: Y_test})\n",
        "        print(\"Train Accuracy:\", train_accuracy)\n",
        "        print(\"Test Accuracy:\", test_accuracy)\n",
        "                \n",
        "        return train_accuracy, test_accuracy, parameters"
      ],
      "execution_count": null,
      "outputs": [
        {
          "ename": "IndentationError",
          "evalue": "unindent does not match any outer indentation level (<tokenize>, line 68)",
          "output_type": "error",
          "traceback": [
            "\u001b[1;36m  File \u001b[1;32m\"<tokenize>\"\u001b[1;36m, line \u001b[1;32m68\u001b[0m\n\u001b[1;33m    for epoch in range(num_epochs):\u001b[0m\n\u001b[1;37m    ^\u001b[0m\n\u001b[1;31mIndentationError\u001b[0m\u001b[1;31m:\u001b[0m unindent does not match any outer indentation level\n"
          ]
        }
      ]
    },
    {
      "cell_type": "markdown",
      "metadata": {
        "id": "LmExn5J5inbP"
      },
      "source": [
        "Run the following cell to train your model for 100 epochs. Check if your cost after epoch 0 and 5 matches our output. If not, stop the cell and go back to your code!"
      ]
    },
    {
      "cell_type": "code",
      "metadata": {
        "id": "9L90owPKinbP",
        "outputId": "cc8d60eb-5fc9-45db-8f5e-c374faf61c82"
      },
      "source": [
        "_, _, parameters = model(X_train, Y_train, X_test, Y_test)"
      ],
      "execution_count": null,
      "outputs": [
        {
          "name": "stdout",
          "output_type": "stream",
          "text": [
            "Cost after epoch 0: 1.917929\n",
            "Cost after epoch 5: 1.506757\n",
            "Cost after epoch 10: 0.955359\n",
            "Cost after epoch 15: 0.845802\n",
            "Cost after epoch 20: 0.701174\n",
            "Cost after epoch 25: 0.571977\n",
            "Cost after epoch 30: 0.518435\n",
            "Cost after epoch 35: 0.495806\n",
            "Cost after epoch 40: 0.429827\n",
            "Cost after epoch 45: 0.407291\n",
            "Cost after epoch 50: 0.366394\n",
            "Cost after epoch 55: 0.376922\n",
            "Cost after epoch 60: 0.299491\n",
            "Cost after epoch 65: 0.338870\n",
            "Cost after epoch 70: 0.316400\n",
            "Cost after epoch 75: 0.310413\n",
            "Cost after epoch 80: 0.249549\n",
            "Cost after epoch 85: 0.243457\n",
            "Cost after epoch 90: 0.200031\n",
            "Cost after epoch 95: 0.175452\n"
          ]
        },
        {
          "data": {
            "image/png": "[encoded data removed]",
            "text/plain": [
              "<matplotlib.figure.Figure at 0x7fb3fc75a8d0>"
            ]
          },
          "metadata": {},
          "output_type": "display_data"
        },
        {
          "name": "stdout",
          "output_type": "stream",
          "text": [
            "Tensor(\"Mean_1:0\", shape=(), dtype=float32)\n",
            "Train Accuracy: 0.940741\n",
            "Test Accuracy: 0.783333\n"
          ]
        }
      ]
    },
    {
      "cell_type": "markdown",
      "metadata": {
        "id": "vj0zmhEsinbQ"
      },
      "source": [
        "**Expected output**: although it may not match perfectly, your expected output should be close to ours and your cost value should decrease.\n",
        "\n",
        "<table> \n",
        "<tr>\n",
        "    <td> \n",
        "    **Cost after epoch 0 =**\n",
        "    </td>\n",
        "\n",
        "    <td> \n",
        "      1.917929\n",
        "    </td> \n",
        "</tr>\n",
        "<tr>\n",
        "    <td> \n",
        "    **Cost after epoch 5 =**\n",
        "    </td>\n",
        "\n",
        "    <td> \n",
        "      1.506757\n",
        "    </td> \n",
        "</tr>\n",
        "<tr>\n",
        "    <td> \n",
        "    **Train Accuracy   =**\n",
        "    </td>\n",
        "\n",
        "    <td> \n",
        "      0.940741\n",
        "    </td> \n",
        "</tr> \n",
        "\n",
        "<tr>\n",
        "    <td> \n",
        "    **Test Accuracy   =**\n",
        "    </td>\n",
        "\n",
        "    <td> \n",
        "      0.783333\n",
        "    </td> \n",
        "</tr> \n",
        "</table>"
      ]
    },
    {
      "cell_type": "markdown",
      "metadata": {
        "id": "3NnC90B2inbR"
      },
      "source": [
        "Congratulations! You have finished the assignment and built a model that recognizes SIGN language with almost 80% accuracy on the test set. If you wish, feel free to play around with this dataset further. You can actually improve its accuracy by spending more time tuning the hyperparameters, or using regularization (as this model clearly has a high variance). \n",
        "\n",
        "Once again, here's a thumbs up for your work! "
      ]
    },
    {
      "cell_type": "code",
      "metadata": {
        "id": "mDdQCu4minbR",
        "outputId": "1c4ec71c-2165-41de-a623-4704759b2aa1"
      },
      "source": [
        "fname = \"images/thumbs_up.jpg\"\n",
        "image = np.array(ndimage.imread(fname, flatten=False))\n",
        "my_image = scipy.misc.imresize(image, size=(64,64))\n",
        "plt.imshow(my_image)"
      ],
      "execution_count": null,
      "outputs": [
        {
          "data": {
            "text/plain": [
              "<matplotlib.image.AxesImage at 0x7fb3defd15f8>"
            ]
          },
          "execution_count": 52,
          "metadata": {},
          "output_type": "execute_result"
        },
        {
          "data": {
            "image/png": "[encoded data removed]",
            "text/plain": [
              "<matplotlib.figure.Figure at 0x7fb3fc125828>"
            ]
          },
          "metadata": {},
          "output_type": "display_data"
        }
      ]
    },
    {
      "cell_type": "code",
      "metadata": {
        "collapsed": true,
        "id": "NQ1RKFS0inbS"
      },
      "source": [
        ""
      ],
      "execution_count": null,
      "outputs": []
    }
  ]
}